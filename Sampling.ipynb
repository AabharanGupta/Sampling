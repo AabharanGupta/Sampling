{
 "cells": [
  {
   "cell_type": "code",
   "execution_count": 1,
   "id": "434a678a-8852-46c0-b2c6-6dd83a806b91",
   "metadata": {},
   "outputs": [],
   "source": [
    "import pandas as pd\n",
    "from sklearn.model_selection import train_test_split\n",
    "from sklearn.metrics import accuracy_score\n",
    "from sklearn.linear_model import LogisticRegression\n",
    "from sklearn.ensemble import RandomForestClassifier\n",
    "from sklearn.tree import DecisionTreeClassifier\n",
    "from sklearn.naive_bayes import GaussianNB\n",
    "from sklearn.svm import SVC\n",
    "from imblearn.over_sampling import SMOTE\n",
    "from sklearn.utils import resample\n",
    "import numpy as np"
   ]
  },
  {
   "cell_type": "code",
   "execution_count": 2,
   "id": "e461730d-bb3d-4f3f-8100-77e90d82ab09",
   "metadata": {},
   "outputs": [],
   "source": [
    "credit_card_data = pd.read_csv('Creditcard_data.csv')\n",
    "\n",
    "\n",
    "features = credit_card_data.drop(columns=[\"Class\"])\n",
    "labels = credit_card_data[\"Class\"]\n",
    "\n",
    "\n",
    "smote_resampler = SMOTE(random_state=42)\n",
    "balanced_features, balanced_labels = smote_resampler.fit_resample(features, labels)"
   ]
  },
  {
   "cell_type": "code",
   "execution_count": 3,
   "id": "427ce331-b602-4b38-895f-ffa19b80dfcf",
   "metadata": {},
   "outputs": [],
   "source": [
    "def random_sample(features, labels, sample_size):\n",
    "    return resample(features, labels, n_samples=sample_size, random_state=42)\n",
    "\n",
    "def stratified_sample(features, labels, sample_size):\n",
    "    from sklearn.model_selection import StratifiedShuffleSplit\n",
    "    strat_split = StratifiedShuffleSplit(n_splits=1, test_size=sample_size / len(labels), random_state=42)\n",
    "    for train_idx, _ in strat_split.split(features, labels):\n",
    "        return features.iloc[train_idx], labels.iloc[train_idx]"
   ]
  },
  {
   "cell_type": "code",
   "execution_count": 4,
   "id": "33bf8dd6-ef39-4bb0-a4fd-30a48ac4bbf1",
   "metadata": {},
   "outputs": [],
   "source": [
    "sample_sizes = [int(len(balanced_features) * 0.1 * i) for i in range(1, 6)]\n",
    "\n",
    "\n",
    "sampling_methods = {\n",
    "    \"Sample1\": random_sample(balanced_features, balanced_labels, sample_sizes[0]),\n",
    "    \"Sample2\": random_sample(balanced_features, balanced_labels, sample_sizes[1]),\n",
    "    \"Sample3\": stratified_sample(balanced_features, balanced_labels, sample_sizes[2]),\n",
    "    \"Sample4\": random_sample(balanced_features, balanced_labels, sample_sizes[3]),\n",
    "    \"Sample5\": stratified_sample(balanced_features, balanced_labels, sample_sizes[4]),\n",
    "}"
   ]
  },
  {
   "cell_type": "code",
   "execution_count": 5,
   "id": "8b5079a3-5c0a-4e83-9c3e-c30d734bad14",
   "metadata": {},
   "outputs": [],
   "source": [
    "classifiers = {\n",
    "    \"LogReg\": LogisticRegression(),\n",
    "    \"RandForest\": RandomForestClassifier(),\n",
    "    \"DecTree\": DecisionTreeClassifier(),\n",
    "    \"NaiveBayes\": GaussianNB(),\n",
    "    \"SVM\": SVC()\n",
    "}"
   ]
  },
  {
   "cell_type": "code",
   "execution_count": 6,
   "id": "11f4c0d4-46e9-4103-9ec1-58f7341ae535",
   "metadata": {},
   "outputs": [
    {
     "name": "stderr",
     "output_type": "stream",
     "text": [
      "C:\\Users\\A06BH\\AppData\\Roaming\\Python\\Python312\\site-packages\\sklearn\\linear_model\\_logistic.py:469: ConvergenceWarning: lbfgs failed to converge (status=1):\n",
      "STOP: TOTAL NO. of ITERATIONS REACHED LIMIT.\n",
      "\n",
      "Increase the number of iterations (max_iter) or scale the data as shown in:\n",
      "    https://scikit-learn.org/stable/modules/preprocessing.html\n",
      "Please also refer to the documentation for alternative solver options:\n",
      "    https://scikit-learn.org/stable/modules/linear_model.html#logistic-regression\n",
      "  n_iter_i = _check_optimize_result(\n",
      "C:\\Users\\A06BH\\AppData\\Local\\Temp\\ipykernel_836\\3351463771.py:17: FutureWarning: The behavior of DataFrame concatenation with empty or all-NA entries is deprecated. In a future version, this will no longer exclude empty or all-NA columns when determining the result dtypes. To retain the old behavior, exclude the relevant entries before the concat operation.\n",
      "  evaluation_results = pd.concat([\n",
      "C:\\Users\\A06BH\\AppData\\Roaming\\Python\\Python312\\site-packages\\sklearn\\linear_model\\_logistic.py:469: ConvergenceWarning: lbfgs failed to converge (status=1):\n",
      "STOP: TOTAL NO. of ITERATIONS REACHED LIMIT.\n",
      "\n",
      "Increase the number of iterations (max_iter) or scale the data as shown in:\n",
      "    https://scikit-learn.org/stable/modules/preprocessing.html\n",
      "Please also refer to the documentation for alternative solver options:\n",
      "    https://scikit-learn.org/stable/modules/linear_model.html#logistic-regression\n",
      "  n_iter_i = _check_optimize_result(\n",
      "C:\\Users\\A06BH\\AppData\\Roaming\\Python\\Python312\\site-packages\\sklearn\\linear_model\\_logistic.py:469: ConvergenceWarning: lbfgs failed to converge (status=1):\n",
      "STOP: TOTAL NO. of ITERATIONS REACHED LIMIT.\n",
      "\n",
      "Increase the number of iterations (max_iter) or scale the data as shown in:\n",
      "    https://scikit-learn.org/stable/modules/preprocessing.html\n",
      "Please also refer to the documentation for alternative solver options:\n",
      "    https://scikit-learn.org/stable/modules/linear_model.html#logistic-regression\n",
      "  n_iter_i = _check_optimize_result(\n",
      "C:\\Users\\A06BH\\AppData\\Roaming\\Python\\Python312\\site-packages\\sklearn\\linear_model\\_logistic.py:469: ConvergenceWarning: lbfgs failed to converge (status=1):\n",
      "STOP: TOTAL NO. of ITERATIONS REACHED LIMIT.\n",
      "\n",
      "Increase the number of iterations (max_iter) or scale the data as shown in:\n",
      "    https://scikit-learn.org/stable/modules/preprocessing.html\n",
      "Please also refer to the documentation for alternative solver options:\n",
      "    https://scikit-learn.org/stable/modules/linear_model.html#logistic-regression\n",
      "  n_iter_i = _check_optimize_result(\n",
      "C:\\Users\\A06BH\\AppData\\Roaming\\Python\\Python312\\site-packages\\sklearn\\linear_model\\_logistic.py:469: ConvergenceWarning: lbfgs failed to converge (status=1):\n",
      "STOP: TOTAL NO. of ITERATIONS REACHED LIMIT.\n",
      "\n",
      "Increase the number of iterations (max_iter) or scale the data as shown in:\n",
      "    https://scikit-learn.org/stable/modules/preprocessing.html\n",
      "Please also refer to the documentation for alternative solver options:\n",
      "    https://scikit-learn.org/stable/modules/linear_model.html#logistic-regression\n",
      "  n_iter_i = _check_optimize_result(\n"
     ]
    }
   ],
   "source": [
    "evaluation_results = pd.DataFrame(columns=[\"Sample\", \"Classifier\", \"Accuracy\"])\n",
    "\n",
    "\n",
    "for sample_label, (X_sample, y_sample) in sampling_methods.items():\n",
    "\n",
    "    X_train, X_test, y_train, y_test = train_test_split(X_sample, y_sample, test_size=0.2, random_state=42)\n",
    "\n",
    "    for model_label, model in classifiers.items():\n",
    "\n",
    "        model.fit(X_train, y_train)\n",
    "\n",
    "\n",
    "        predictions = model.predict(X_test)\n",
    "        acc = accuracy_score(y_test, predictions)\n",
    "\n",
    "\n",
    "        evaluation_results = pd.concat([\n",
    "            evaluation_results,\n",
    "            pd.DataFrame([{\"Sample\": sample_label, \"Classifier\": model_label, \"Accuracy\": acc}])\n",
    "        ], ignore_index=True)"
   ]
  },
  {
   "cell_type": "code",
   "execution_count": 7,
   "id": "2a2972d1-987e-4071-b68b-6e6553c54ee7",
   "metadata": {},
   "outputs": [
    {
     "name": "stdout",
     "output_type": "stream",
     "text": [
      "Results saved to 'sampling_model_results.csv'\n"
     ]
    }
   ],
   "source": [
    "evaluation_results.to_csv('sampling_model_results.csv', index=False)\n",
    "\n",
    "\n",
    "print(\"Results saved to 'sampling_model_results.csv'\")"
   ]
  }
 ],
 "metadata": {
  "kernelspec": {
   "display_name": "Python 3 (ipykernel)",
   "language": "python",
   "name": "python3"
  },
  "language_info": {
   "codemirror_mode": {
    "name": "ipython",
    "version": 3
   },
   "file_extension": ".py",
   "mimetype": "text/x-python",
   "name": "python",
   "nbconvert_exporter": "python",
   "pygments_lexer": "ipython3",
   "version": "3.12.4"
  }
 },
 "nbformat": 4,
 "nbformat_minor": 5
}
